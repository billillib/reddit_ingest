{
 "cells": [
  {
   "cell_type": "code",
   "execution_count": 40,
   "metadata": {},
   "outputs": [],
   "source": [
    "import praw\n",
    "import vars\n",
    "import time\n",
    "import json"
   ]
  },
  {
   "cell_type": "code",
   "execution_count": 3,
   "metadata": {},
   "outputs": [],
   "source": [
    "reddit = praw.Reddit(client_id=vars.client_id,\n",
    "                     client_secret=vars.client_secret,\n",
    "                     user_agent=vars.user_agent)"
   ]
  },
  {
   "cell_type": "code",
   "execution_count": 3,
   "metadata": {},
   "outputs": [
    {
     "name": "stdout",
     "output_type": "stream",
     "text": [
      "True\n"
     ]
    }
   ],
   "source": [
    "# print(reddit.read_only)"
   ]
  },
  {
   "cell_type": "code",
   "execution_count": 4,
   "metadata": {},
   "outputs": [
    {
     "name": "stdout",
     "output_type": "stream",
     "text": [
      "That’s dope! Sick line ososkokaror\n",
      "Dang that is impressive! Great pic too.  bensonxj\n",
      "Epic! Any video of you riding the line? skwormin\n",
      "dude! steam_donkey\n",
      "Perfect!  hatcherpassfool\n"
     ]
    }
   ],
   "source": [
    "# for submission in reddit.subreddit('Spliddit').hot(limit=2):\n",
    "# #     submission.comments.replace_more(limit=None)\n",
    "#     for comment in submission.comments.list():\n",
    "#         print(comment.body, comment.author)"
   ]
  },
  {
   "cell_type": "code",
   "execution_count": 5,
   "metadata": {},
   "outputs": [],
   "source": [
    "# submission = reddit.submission(url='https://www.reddit.com/r/Spliddit/comments/abpsj1/playful_splitboards/')"
   ]
  },
  {
   "cell_type": "code",
   "execution_count": 6,
   "metadata": {},
   "outputs": [],
   "source": [
    "# submission.comments.replace_more(limit=None)\n",
    "# new = [comment.body for comment in submission.comments.list()]"
   ]
  },
  {
   "cell_type": "markdown",
   "metadata": {},
   "source": [
    "Trying out streaming"
   ]
  },
  {
   "cell_type": "raw",
   "metadata": {},
   "source": [
    "json = [title: name of the thing\n",
    "        subreddit: subreddit\n",
    "        author: author\n",
    "        ]"
   ]
  },
  {
   "cell_type": "code",
   "execution_count": 39,
   "metadata": {},
   "outputs": [
    {
     "name": "stdout",
     "output_type": "stream",
     "text": [
      "\n",
      "Exception, retrying...\n",
      "\n",
      "\n",
      "ended\n"
     ]
    }
   ],
   "source": [
    "list_target = []\n",
    "submissions = reddit.subreddit('all').stream.submissions()\n",
    "\n",
    "try:\n",
    "    while True:\n",
    "        try: \n",
    "            for s in submissions:\n",
    "                list_target.append({\"title\":s.title,\"sub\":s.subreddit_name_prefixed,\"author\":s.author.fullname,\"nsfw\":s.over_18})\n",
    "                \n",
    "        except Exception as e:\n",
    "            print()\n",
    "            print('Exception, retrying...')\n",
    "            print()\n",
    "\n",
    "except KeyboardInterrupt:\n",
    "    pass\n",
    "\n",
    "\n",
    "with open('data.json', 'w') as outfile:\n",
    "    json.dump(list_target, outfile)\n",
    "\n",
    "print()\n",
    "print(\"ended\")"
   ]
  },
  {
   "cell_type": "code",
   "execution_count": 41,
   "metadata": {},
   "outputs": [],
   "source": [
    "import boto3"
   ]
  },
  {
   "cell_type": "code",
   "execution_count": 43,
   "metadata": {},
   "outputs": [],
   "source": [
    "client = boto3.client('kinesis')\n",
    "response = client.create_stream(\n",
    "   StreamName='reddit',\n",
    "   ShardCount=1\n",
    ")"
   ]
  },
  {
   "cell_type": "code",
   "execution_count": null,
   "metadata": {},
   "outputs": [],
   "source": []
  }
 ],
 "metadata": {
  "kernelspec": {
   "display_name": "Python 3",
   "language": "python",
   "name": "python3"
  },
  "language_info": {
   "codemirror_mode": {
    "name": "ipython",
    "version": 3
   },
   "file_extension": ".py",
   "mimetype": "text/x-python",
   "name": "python",
   "nbconvert_exporter": "python",
   "pygments_lexer": "ipython3",
   "version": "3.6.7"
  }
 },
 "nbformat": 4,
 "nbformat_minor": 2
}
